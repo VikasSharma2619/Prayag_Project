{
 "cells": [
  {
   "cell_type": "code",
   "execution_count": 2,
   "metadata": {},
   "outputs": [
    {
     "name": "stdout",
     "output_type": "stream",
     "text": [
      "Collecting flask_cors\n",
      "  Downloading Flask_Cors-4.0.0-py2.py3-none-any.whl (14 kB)\n",
      "Requirement already satisfied: Flask>=0.9 in c:\\users\\vikas sharma\\anaconda3\\lib\\site-packages (from flask_cors) (1.1.2)\n",
      "Requirement already satisfied: Jinja2>=2.10.1 in c:\\users\\vikas sharma\\anaconda3\\lib\\site-packages (from Flask>=0.9->flask_cors) (2.11.2)\n",
      "Requirement already satisfied: Werkzeug>=0.15 in c:\\users\\vikas sharma\\anaconda3\\lib\\site-packages (from Flask>=0.9->flask_cors) (1.0.1)\n",
      "Requirement already satisfied: itsdangerous>=0.24 in c:\\users\\vikas sharma\\anaconda3\\lib\\site-packages (from Flask>=0.9->flask_cors) (1.1.0)\n",
      "Requirement already satisfied: click>=5.1 in c:\\users\\vikas sharma\\anaconda3\\lib\\site-packages (from Flask>=0.9->flask_cors) (7.1.2)\n",
      "Requirement already satisfied: MarkupSafe>=0.23 in c:\\users\\vikas sharma\\anaconda3\\lib\\site-packages (from Jinja2>=2.10.1->Flask>=0.9->flask_cors) (1.1.1)\n",
      "Installing collected packages: flask-cors\n",
      "Successfully installed flask-cors-4.0.0\n"
     ]
    }
   ],
   "source": [
    "!pip install flask_cors"
   ]
  },
  {
   "cell_type": "code",
   "execution_count": null,
   "metadata": {},
   "outputs": [
    {
     "name": "stdout",
     "output_type": "stream",
     "text": [
      " * Serving Flask app \"__main__\" (lazy loading)\n",
      " * Environment: production\n",
      "   WARNING: This is a development server. Do not use it in a production deployment.\n",
      "   Use a production WSGI server instead.\n",
      " * Debug mode: off\n"
     ]
    },
    {
     "name": "stderr",
     "output_type": "stream",
     "text": [
      " * Running on http://127.0.0.1:5000/ (Press CTRL+C to quit)\n",
      "127.0.0.1 - - [22/Aug/2024 23:39:44] \"\u001b[37mGET / HTTP/1.1\u001b[0m\" 200 -\n",
      "127.0.0.1 - - [22/Aug/2024 23:40:12] \"\u001b[37mPOST /predict HTTP/1.1\u001b[0m\" 200 -\n"
     ]
    },
    {
     "name": "stdout",
     "output_type": "stream",
     "text": [
      "[11.59269962]\n"
     ]
    }
   ],
   "source": [
    "from flask import Flask, render_template, request, redirect\n",
    "from flask_cors import CORS, cross_origin\n",
    "import pickle\n",
    "import pandas as pd\n",
    "import numpy as np\n",
    "\n",
    "app = Flask(__name__)\n",
    "cors = CORS(app)\n",
    "model = pickle.load(open('pipe.pkl', 'rb'))\n",
    "# laptop = pd.read_csv('laptop_data.csv')\n",
    "laptop = pickle.load(open('df.pkl', 'rb'))\n",
    "\n",
    "@app.route('/', methods=['GET', 'POST'])\n",
    "def index():\n",
    "    companies = sorted(laptop['Company'].unique())\n",
    "    typenames = sorted(laptop['TypeName'].unique())\n",
    "    rams = sorted(laptop['Ram'].unique())\n",
    "    weights = sorted(laptop['Weight'].unique())\n",
    "    cpus = sorted(laptop['Cpu brand'].unique())\n",
    "    gpus = sorted(laptop['Gpu brand'].unique())\n",
    "    oss = sorted(laptop['os'].unique())\n",
    "\n",
    "    companies.insert(0, 'Select Company')\n",
    "    typenames.insert(0, 'Select Type')\n",
    "    rams.insert(0, 'Select RAM')\n",
    "    weights.insert(0, 'Select Weight')\n",
    "    cpus.insert(0, 'Select CPU')\n",
    "    gpus.insert(0, 'Select GPU')\n",
    "    oss.insert(0, 'Select OS')\n",
    "\n",
    "    return render_template('index.html', \n",
    "                           companies=companies, \n",
    "                           typenames=typenames, \n",
    "                           rams=rams, \n",
    "                           weights=weights, \n",
    "                           cpus=cpus, \n",
    "                           gpus=gpus, \n",
    "                           oss=oss)\n",
    "\n",
    "@app.route('/predict', methods=['POST'])\n",
    "@cross_origin()\n",
    "def predict():\n",
    "    company = request.form.get('company')\n",
    "    typename = request.form.get('typename')\n",
    "    ram = request.form.get('ram')\n",
    "    weight = request.form.get('weight')\n",
    "    touchscreen = request.form.get('touchscreen')\n",
    "    ips = request.form.get('ips')\n",
    "    ppi = request.form.get('ppi')\n",
    "    cpu = request.form.get('cpu')\n",
    "    hdd = request.form.get('hdd')\n",
    "    ssd = request.form.get('ssd')\n",
    "    gpu = request.form.get('gpu')\n",
    "    os = request.form.get('os')\n",
    "\n",
    "    prediction = model.predict(pd.DataFrame(columns=['Company', 'TypeName', 'Ram', 'Weight', 'Touchscreen', 'Ips', 'ppi', 'Cpu brand', 'HDD', 'SSD', 'Gpu brand', 'os'],\n",
    "                                            data=np.array([company, typename, ram, weight, touchscreen, ips, ppi, cpu, hdd, ssd, gpu, os]).reshape(1, 12)))\n",
    "    print(prediction)\n",
    "\n",
    "    return str(np.round(np.exp(np.round(prediction[0], 2)),2))\n",
    "\n",
    "if __name__ == '__main__':\n",
    "    app.run()\n"
   ]
  },
  {
   "cell_type": "code",
   "execution_count": 5,
   "metadata": {},
   "outputs": [
    {
     "name": "stdout",
     "output_type": "stream",
     "text": [
      "Requirement already up-to-date: numexpr in c:\\users\\vikas sharma\\anaconda3\\lib\\site-packages (2.8.6)\n",
      "Requirement already satisfied, skipping upgrade: numpy>=1.13.3 in c:\\users\\vikas sharma\\anaconda3\\lib\\site-packages (from numexpr) (1.24.4)\n"
     ]
    }
   ],
   "source": [
    "!pip install --upgrade numexpr --user"
   ]
  }
 ],
 "metadata": {
  "kernelspec": {
   "display_name": "Python 3",
   "language": "python",
   "name": "python3"
  },
  "language_info": {
   "codemirror_mode": {
    "name": "ipython",
    "version": 3
   },
   "file_extension": ".py",
   "mimetype": "text/x-python",
   "name": "python",
   "nbconvert_exporter": "python",
   "pygments_lexer": "ipython3",
   "version": "3.8.5"
  }
 },
 "nbformat": 4,
 "nbformat_minor": 4
}
